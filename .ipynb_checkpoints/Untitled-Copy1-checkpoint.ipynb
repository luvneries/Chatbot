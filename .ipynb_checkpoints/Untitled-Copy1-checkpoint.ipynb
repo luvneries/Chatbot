{
 "cells": [
  {
   "cell_type": "code",
   "execution_count": 2,
   "metadata": {},
   "outputs": [],
   "source": [
    "import sqlite3\n",
    "import json\n",
    "from datetime import datetime as dt"
   ]
  },
  {
   "cell_type": "code",
   "execution_count": 7,
   "metadata": {},
   "outputs": [],
   "source": [
    "timeframe = '2015-05'\n",
    "connect = sqlite3.connect('{}.db'.format(timeframe))\n",
    "c = connect.cursor()\n",
    "\n",
    "def createTable():\n",
    "    c.execute(\"\"\"CREATE TABLE IF NOT EXISTS parent_reply (parent_id TEXT PRIMARY KEY, comment_id TEXT UNIQUE, parent TEXT, \n",
    "              COMMENT TEXT, subreddit TEXT,  unix INT, score INT)\"\"\")\n",
    "    \n",
    "def format_data(data):\n",
    "    data = data.replace('\\n', 'newlinechar').replace('\\r', 'newlinechar').replace('\"', \"'\")\n",
    "    return data\n",
    "\n",
    "def find_parent(pid):\n",
    "    sql = 'select comment from parent_reply where parent_id={}'.format(pid)\n",
    "    c.execute(sql)\n",
    "    result = c.fetchone()\n",
    "    try:\n",
    "        if result != None:\n",
    "            return result[0]\n",
    "        else: return False\n",
    "    except Exception as e:\n",
    "        #print ('find parent': e)\n",
    "        return False\n",
    "    \n",
    "\n",
    "\n",
    "\n"
   ]
  },
  {
   "cell_type": "code",
   "execution_count": 6,
   "metadata": {},
   "outputs": [],
   "source": [
    "if __name__ == \"__main__\":\n",
    "    createTable()\n",
    "    row_counter = 0\n",
    "    paired_rows = 0\n",
    "    \n",
    "    with open('/user/pankaj/Projects/Chatbot/Data/{}/RC_{}'.format(timeframe.split('-')[0], timeframe), buffering=1000) as f:\n",
    "        for row in f:\n",
    "            row_counter +=1\n",
    "            row = json.loads(row)\n",
    "            parent_id = row['parent_id']\n",
    "            body = format(row['body'])\n",
    "            created_utc = row['created_utc']\n",
    "            score = row['score']\n",
    "            subreddit = row['subreddit']\n",
    "            \n",
    "            parent_data = find_parent(parent_id)\n",
    "            \n",
    "            if score >= \n",
    "            \n",
    "    "
   ]
  },
  {
   "cell_type": "code",
   "execution_count": null,
   "metadata": {},
   "outputs": [],
   "source": []
  }
 ],
 "metadata": {
  "kernelspec": {
   "display_name": "Python 3",
   "language": "python",
   "name": "python3"
  },
  "language_info": {
   "codemirror_mode": {
    "name": "ipython",
    "version": 3
   },
   "file_extension": ".py",
   "mimetype": "text/x-python",
   "name": "python",
   "nbconvert_exporter": "python",
   "pygments_lexer": "ipython3",
   "version": "3.6.3"
  }
 },
 "nbformat": 4,
 "nbformat_minor": 2
}
